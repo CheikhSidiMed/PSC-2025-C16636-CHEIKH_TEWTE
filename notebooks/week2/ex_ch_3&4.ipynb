{
 "cells": [
  {
   "cell_type": "code",
   "execution_count": 2,
   "id": "b14b518e-8d47-48fc-8eee-55608da1e721",
   "metadata": {},
   "outputs": [
    {
     "name": "stdout",
     "output_type": "stream",
     "text": [
      "1\n",
      "2\n",
      "3\n",
      "4\n",
      "5\n",
      "6\n",
      "7\n",
      "8\n",
      "9\n",
      "10\n"
     ]
    }
   ],
   "source": [
    "liste = list(range(1, 11)) \n",
    "for nombre in liste:\n",
    "    print(nombre)"
   ]
  },
  {
   "cell_type": "code",
   "execution_count": 3,
   "id": "a8619e3a-d318-43e2-bfb1-1bddb7a7309a",
   "metadata": {},
   "outputs": [],
   "source": [
    "def trier_liste(liste):\n",
    "    return sorted(liste)\n"
   ]
  },
  {
   "cell_type": "code",
   "execution_count": 5,
   "id": "6e0ea87c-4477-44b1-81be-e112143df998",
   "metadata": {},
   "outputs": [
    {
     "name": "stdout",
     "output_type": "stream",
     "text": [
      "[1, 1, 2, 3, 4, 5, 9]\n"
     ]
    }
   ],
   "source": [
    "ma_liste = [3, 1, 4, 1, 5, 9, 2] \n",
    "print(trier_liste(ma_liste))"
   ]
  },
  {
   "cell_type": "code",
   "execution_count": 7,
   "id": "7fecae9f-efeb-4553-b108-7ac34bd149e1",
   "metadata": {},
   "outputs": [
    {
     "name": "stdout",
     "output_type": "stream",
     "text": [
      "Paris est dans France\n",
      "Berlin est dans Allemagne\n",
      "Madrid est dans Espagne\n"
     ]
    }
   ],
   "source": [
    "def afficher_villes(dictionnaire):\n",
    "    for ville, pays in dictionnaire.items(): \n",
    "        print(f\"{ville} est dans {pays}\")\n",
    "\n",
    "villes = {\n",
    "\"Paris\": \"France\", \"Berlin\": \"Allemagne\", \"Madrid\": \"Espagne\"\n",
    "} \n",
    "afficher_villes(villes)"
   ]
  },
  {
   "cell_type": "code",
   "execution_count": 8,
   "id": "3cf72881-5c67-4d79-ac8f-2bde5bb07dfb",
   "metadata": {},
   "outputs": [
    {
     "name": "stdout",
     "output_type": "stream",
     "text": [
      "[[1 2 3]\n",
      " [4 5 6]]\n"
     ]
    }
   ],
   "source": [
    "import numpy as np\n",
    "matrice = np.array([[1, 2, 3], [4, 5, 6]]) \n",
    "print(matrice)"
   ]
  },
  {
   "cell_type": "code",
   "execution_count": 9,
   "id": "82932935-1b2f-4b82-bae4-8dc6aec8070c",
   "metadata": {},
   "outputs": [
    {
     "name": "stdout",
     "output_type": "stream",
     "text": [
      "21\n"
     ]
    }
   ],
   "source": [
    "def somme_matrice(matrice):\n",
    "    return np.sum(matrice)\n",
    "matrice = np.array([[1, 2, 3], [4, 5, 6]]) \n",
    "print(somme_matrice(matrice))"
   ]
  },
  {
   "cell_type": "code",
   "execution_count": 10,
   "id": "4da59ed9-23b8-48d0-8ad3-e168c11aef97",
   "metadata": {},
   "outputs": [
    {
     "name": "stdout",
     "output_type": "stream",
     "text": [
      "[0 1 2 3 4]\n"
     ]
    }
   ],
   "source": [
    "tableau = np.arange(10) \n",
    "premiers_elements = tableau[:5] \n",
    "print(premiers_elements)"
   ]
  },
  {
   "cell_type": "code",
   "execution_count": 11,
   "id": "5423cc82-4c31-4cf3-a004-1b5da13c8558",
   "metadata": {},
   "outputs": [],
   "source": [
    "def transposee(matrice):\n",
    "    return np.transpose(matrice)\n"
   ]
  },
  {
   "cell_type": "code",
   "execution_count": 12,
   "id": "bd871471-d38a-4430-99d1-e09b6c6b09e1",
   "metadata": {},
   "outputs": [
    {
     "name": "stdout",
     "output_type": "stream",
     "text": [
      "[[1 3]\n",
      " [2 4]]\n"
     ]
    }
   ],
   "source": [
    "matrice = np.array([[1, 2], [3, 4]]) \n",
    "print(transposee(matrice))"
   ]
  }
 ],
 "metadata": {
  "kernelspec": {
   "display_name": "Python 3",
   "language": "python",
   "name": "python3"
  },
  "language_info": {
   "codemirror_mode": {
    "name": "ipython",
    "version": 3
   },
   "file_extension": ".py",
   "mimetype": "text/x-python",
   "name": "python",
   "nbconvert_exporter": "python",
   "pygments_lexer": "ipython3",
   "version": "3.13.0rc3"
  }
 },
 "nbformat": 4,
 "nbformat_minor": 5
}
